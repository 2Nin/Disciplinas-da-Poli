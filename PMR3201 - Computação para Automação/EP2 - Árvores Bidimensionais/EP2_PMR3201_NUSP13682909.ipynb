{
  "cells": [
    {
      "cell_type": "markdown",
      "id": "resistant-vulnerability",
      "metadata": {
        "id": "resistant-vulnerability"
      },
      "source": [
        "# PMR3201 Computação para Automação - V2023\n",
        "## EP2 - Árvores k-d\n",
        "\n",
        "\n",
        "## Deadline: 26/06/2023 23h59m\n"
      ]
    },
    {
      "cell_type": "markdown",
      "id": "lasting-corps",
      "metadata": {
        "id": "lasting-corps"
      },
      "source": [
        "### Nome: Antônio Augusto Carnevalli\n",
        "### NUSP: 13682909"
      ]
    },
    {
      "cell_type": "markdown",
      "id": "opposed-facial",
      "metadata": {
        "id": "opposed-facial"
      },
      "source": [
        "## Código base"
      ]
    },
    {
      "cell_type": "code",
      "execution_count": 1,
      "id": "9d60bdfd",
      "metadata": {
        "id": "9d60bdfd"
      },
      "outputs": [],
      "source": [
        "import math\n",
        "import matplotlib.pyplot as plt"
      ]
    },
    {
      "cell_type": "code",
      "execution_count": 132,
      "id": "metallic-capture",
      "metadata": {
        "id": "metallic-capture"
      },
      "outputs": [],
      "source": [
        "# Tarefa 1\n",
        "def ha_interseccao(minxa, maxxa, minya, maxya, minxb, maxxb, minyb, maxyb):\n",
        "    inter = True\n",
        "\n",
        "    # Caso de retângulos externos\n",
        "    if maxxa < minxb or maxxb < minxa:\n",
        "        inter = False\n",
        "    if maxya < minyb or maxyb < minya:\n",
        "        inter = False\n",
        "\n",
        "    # Caso de retângulos internos\n",
        "    if (maxxb < maxxa and minxb > minxa and maxyb < maxya and minyb > minya):\n",
        "        inter = False\n",
        "    if (maxxa < maxxb and minxa > minxb and maxya < maxyb and minya > minyb):\n",
        "        inter = False\n",
        "\n",
        "    return inter\n",
        "\n",
        "\n",
        "# Tarefa 3\n",
        "global qte\n",
        "qte = 0\n",
        "def int_circ_rect(minx, maxx, miny, maxy, cx, cy, r2):\n",
        "    from math import sqrt\n",
        "    global qte\n",
        "    qte+=1\n",
        "    # Definindo o centro do retângulo e suas medidas\n",
        "    largura = maxx - minx\n",
        "    altura = maxy - miny\n",
        "    centro_rectX = (maxx + (minx))/2\n",
        "    centro_rectY = (maxy + (miny))/2\n",
        "\n",
        "\n",
        "    # Definindo o a distância do centro da circunferência até o centro do retângulo\n",
        "    distCX = abs(cx - centro_rectX);\n",
        "    distCY = abs(cy - centro_rectY);\n",
        "\n",
        "\n",
        "    #print(largura, altura, centro_rectX, centro_rectY, distCX, distCY)\n",
        "    if (distCX > (largura/2 + sqrt(r2))):\n",
        "       return False\n",
        "    if (distCY > (altura/2 +  sqrt(r2))):\n",
        "       return False\n",
        "\n",
        "    if (distCX <= (largura/2)):\n",
        "       return True\n",
        "    if (distCY <= (altura/2)):\n",
        "       return True\n",
        "\n",
        "    dist_centro_ret = (distCX - largura/2)**2 + (distCY - altura/2)**2\n",
        "\n",
        "    # Verifica se há intersecção\n",
        "    return (dist_centro_ret <= (r2))\n",
        "\n",
        "\n",
        "# Tarefas 2 e 4\n",
        "class NoArvore2D:\n",
        "  \"\"\" Implementa um nó de árvore 2d (k-d bidimensional)\n",
        "  \"\"\"\n",
        "  def __init__(self, x, y):\n",
        "    \"\"\" Cria um novo nó. x e y são as coordenadas do nó.\n",
        "    \"\"\"\n",
        "    self._x = x       # Coordenada x\n",
        "    self._y = y       # Coordenada y\n",
        "    self._e = None    # Sub-árvore esquerda\n",
        "    self._d = None    # Sub-árvore direita\n",
        "  # Este é o método recursivo que faz a inserção de um novo nó\n",
        "  #  Ele é chamada pelo método insere\n",
        "  def _insere_rec(self, x, y, horizontal):\n",
        "    if (horizontal and self._x > x) or ((not horizontal) and self._y > y):\n",
        "      if self._e is None:\n",
        "        self._e = NoArvore2D(x, y)\n",
        "      else:\n",
        "        self._e._insere_rec(x, y, not horizontal)\n",
        "    else:\n",
        "      if self._d is None:\n",
        "        self._d = NoArvore2D(x, y)\n",
        "      else:\n",
        "        self._d._insere_rec(x, y, not horizontal)\n",
        "\n",
        "  def insere(self, x, y):\n",
        "    \"\"\" Insere um novo nó. x e y são as coordenadas do nó a ser inserido na\n",
        "    árvore.\"\"\"\n",
        "    self._insere_rec(x, y, True)\n",
        "\n",
        "  # Tarefa 4\n",
        "  # Seguiremos o passo a passo elaborado no enunciado\n",
        "  def _busca_mais_proximo_rec(self, x, y, maisprox_x, maisprox_y, r2, limmx, limsx, limiy, limsy, horizontal):\n",
        "    # Mostra qual ponto está atualmente sendo visitado e aumenta a quantidade\n",
        "    # de vezes que a função int_circ_rect é chamada\n",
        "    #print(self._x, self._y)\n",
        "    # 1\n",
        "    # Calculando a distancia e verificando se haverá substituição\n",
        "    dist = (self._x - x)**2 + (self._y - y)**2\n",
        "    if dist < r2:\n",
        "      maisprox_x = self._x\n",
        "      maisprox_y = self._y\n",
        "      r2 = dist\n",
        "\n",
        "    # 2 e 3\n",
        "    # Verificando qual sub-árvore será a distante e qual será a próxima,\n",
        "    # e verificando as suas intersecções com as próximas\n",
        "    if horizontal:\n",
        "      if x > self._x and self._d:\n",
        "\n",
        "        if int_circ_rect(self._x, limsx, limiy, limsy, x, y, r2):\n",
        "          maisprox_x, maisprox_y, r2= self._d._busca_mais_proximo_rec(x, y, maisprox_x, maisprox_y, r2, self._x, limsx, limiy, limsy, not horizontal)\n",
        "      elif self._e and x < self._x:\n",
        "\n",
        "        if int_circ_rect(limmx, self._x, limiy, limsy, x, y, r2):\n",
        "          maisprox_x, maisprox_y, r2 = self._e._busca_mais_proximo_rec(x, y, maisprox_x, maisprox_y, r2, limmx, self._x, limiy, limsy, not horizontal)\n",
        "    else:\n",
        "      if y > self._y and self._d:\n",
        "\n",
        "        if int_circ_rect(limmx, limsx, self._y, limsy, x, y, r2):\n",
        "          maisprox_x, maisprox_y, r2= self._d._busca_mais_proximo_rec(x, y, maisprox_x, maisprox_y, r2, limmx, limsx, self._y, limsy, not horizontal)\n",
        "      elif self._e and y < self._y:\n",
        "\n",
        "        if int_circ_rect(limmx, limsx, limiy, self._y, x, y, r2):\n",
        "          maisprox_x, maisprox_y, r2 = self._e._busca_mais_proximo_rec(x, y, maisprox_x, maisprox_y, r2, limmx, limsx, limiy, self._y, not horizontal)\n",
        "\n",
        "\n",
        "    # 4\n",
        "    # Repetindo para as árvores distantes\n",
        "    if horizontal:\n",
        "      if x > self._x and self._e:\n",
        "        if int_circ_rect(limmx, self._x, limiy, limsy, x, y, r2):\n",
        "          maisprox_x, maisprox_y, r2 = self._e._busca_mais_proximo_rec(x, y, maisprox_x, maisprox_y, r2, self._x, limsx, limiy, limsy, not horizontal)\n",
        "      elif self._d and x < self._x:\n",
        "\n",
        "        if int_circ_rect(self._x, limsx, limiy, limsy, x, y, r2):\n",
        "          maisprox_x, maisprox_y, r2 = self._d._busca_mais_proximo_rec(x, y, maisprox_x, maisprox_y, r2, limmx, self._x, limiy, limsy, not horizontal)\n",
        "\n",
        "    else:\n",
        "      if y > self._y and self._e:\n",
        "\n",
        "        if int_circ_rect(limmx, limsx, limiy, self._y, x, y, r2):\n",
        "          maisprox_x, maisprox_y, r2 = self._e._busca_mais_proximo_rec(x, y, maisprox_x, maisprox_y, r2, limmx, limsx, self._y, limsy, not horizontal)\n",
        "      elif self._d and y < self._y:\n",
        "\n",
        "        if int_circ_rect(limmx, limsx, self._y, limsy, x, y, r2):\n",
        "          maisprox_x, maisprox_y, r2 = self._d._busca_mais_proximo_rec(x, y, maisprox_x, maisprox_y, r2, limmx, limsx, limiy, self._y, not horizontal)\n",
        "\n",
        "    # 5 Devolvendo os valores.\n",
        "    return maisprox_x, maisprox_y, r2\n",
        "\n",
        "  def busca_mais_proximo(self, x, y):\n",
        "    # Conta a quantidade de chamadas da função int_circ_rect\n",
        "    # Conta a quantidade de vezes que a função int_circ_rect é chamada\n",
        "    global qte\n",
        "    qte = 0\n",
        "    return self._busca_mais_proximo_rec(x, y, math.inf, math.inf, math.inf, -math.inf, math.inf, -math.inf, math.inf, True)\n",
        "\n",
        "\n",
        "  #################################\n",
        "  # Tarefa 2\n",
        "  def _procura_rect_recur(self, minx, maxx, miny, maxy, func, pontos, horizontal):\n",
        "    # Recebe as coordenadas do retângulo e os limites das coordenadas\n",
        "    if (self._x >= minx and self._x <= maxx) and (self._y >= miny and self._y <= maxy):\n",
        "      func(self._x, self._y, pontos)\n",
        "\n",
        "    # Verificando qual eixo está sendo comparado\n",
        "    if horizontal:\n",
        "      # Se a coordenada X dos nós em diante forem menores que o limite mínimo do retângulo na coordenada X,\n",
        "      # todos os demais também não estarão nos limites\n",
        "      if self._e and self._e._x >= minx:\n",
        "        self._e._procura_rect_recur(minx, maxx, miny, maxy, func, pontos, not horizontal)\n",
        "      # Mesma ideia, se forem maiores que o limite superior do retângulo em X, os demais nós também serão\n",
        "      if self._d and self._d._x <= maxx:\n",
        "        self._d._procura_rect_recur(minx, maxx, miny, maxy, func, pontos, not horizontal)\n",
        "\n",
        "    else:\n",
        "      # Repetindo o processo para Y\n",
        "      if self._e and self._e._y >= miny:\n",
        "        self._e._procura_rect_recur(minx, maxx, miny, maxy, func, pontos, not horizontal)\n",
        "      if self._d and self._d._y <= maxy:\n",
        "        self._d._procura_rect_recur(minx, maxx, miny, maxy, func, pontos, not horizontal)\n",
        "\n",
        "\n",
        "  def procura_rect(self, minx, maxx, miny, maxy, func):\n",
        "    # Função que verifica quais pontos de uma árvore estão dentro de um retângulo delimitado\n",
        "    # Se caminha-se para esquerda, altera-se o limite superior do eixo (X ou Y) comparado\n",
        "    # Se caminhamos para a direita, alteramos o limite inferior do eixo comparado\n",
        "    # Logo, uma solução consiste em percorrer a árvore e analisar os limites de cada sub-árvore\n",
        "    # E realizaremos a checkagem de pontos em comum apenas nas sub-árvores que estão dentro do\n",
        "    # Intervalo dos limites\n",
        "    # Inicializaremos como True pois a primeira comparação é sempre em X\n",
        "    pontos = []\n",
        "    return self._procura_rect_recur(minx, maxx, miny, maxy, func, pontos, True)\n",
        "\n",
        "\n",
        "    #raise NotImplementedError()\n",
        "\n",
        "  def _p_avr_prof_ant_rec(self, horizontal, minx, maxx, miny, maxy, func):\n",
        "    # Coordenadas e Limites atuais do ponto observado\n",
        "    func(horizontal, self._x, self._y, minx, maxx, miny, maxy)\n",
        "\n",
        "    if horizontal:\n",
        "      if self._e:\n",
        "        self._e._p_avr_prof_ant_rec(False, minx, self._x, miny, maxy, func)\n",
        "      if self._d:\n",
        "        self._d._p_avr_prof_ant_rec(False, self._x, maxx, miny, maxy, func)\n",
        "    else:\n",
        "      if self._e:\n",
        "        self._e._p_avr_prof_ant_rec(True, minx, maxx, miny, self._y, func)\n",
        "      if self._d:\n",
        "        self._d._p_avr_prof_ant_rec(True, minx, maxx, self._y, maxy, func)\n",
        "\n",
        "  \"\"\" Percore a árvore em profundidade pré-ordem (pai antes dos filhos)\n",
        "  Para cada nó invoca func(horizontal, x, y, minx, maxx, miny, maxy) onde\n",
        "  horizontal é verdadeiro se a separação das sub-árvores ocorre no eixo x, falso caso contrário\n",
        "  x e y são as coordenadas do nó e minx, maxx, miny, maxy são os limites do nó\"\"\"\n",
        "  def percorre_arvore_profundidade_anterior(self, func):\n",
        "    return self._p_avr_prof_ant_rec(True, -math.inf, math.inf, -math.inf, math.inf, func)\n"
      ]
    },
    {
      "cell_type": "markdown",
      "id": "227c72a4",
      "metadata": {
        "id": "227c72a4"
      },
      "source": [
        "## Exemplo:"
      ]
    },
    {
      "cell_type": "code",
      "execution_count": 133,
      "id": "2127bd1a",
      "metadata": {
        "id": "2127bd1a"
      },
      "outputs": [],
      "source": [
        "def mostra_arvore(ax, raiz):\n",
        "  def desenha_no(horizontal, x, y, minx, maxx, miny, maxy):\n",
        "    maxx = min(maxx,10)\n",
        "    maxy = min(maxy,10)\n",
        "    minx = max(minx,-10)\n",
        "    miny = max(miny,-10)\n",
        "    if horizontal:\n",
        "      ax.plot([x, x], [miny, maxy], color='r', ls='--', lw=0.5)\n",
        "    else:\n",
        "      ax.plot([minx, maxx], [y, y], color='b', ls='--', lw=0.5)\n",
        "    ax.plot(x, y, ls=None, marker='o', color='k')\n",
        "  raiz.percorre_arvore_profundidade_anterior(desenha_no)"
      ]
    },
    {
      "cell_type": "code",
      "execution_count": 134,
      "id": "26448436",
      "metadata": {
        "colab": {
          "base_uri": "https://localhost:8080/",
          "height": 430
        },
        "id": "26448436",
        "outputId": "cba456aa-6a3a-4771-9196-995f05116cae"
      },
      "outputs": [
        {
          "output_type": "display_data",
          "data": {
            "text/plain": [
              "<Figure size 640x480 with 1 Axes>"
            ],
            "image/png": "[encoded data removed]"
          },
          "metadata": {}
        }
      ],
      "source": [
        "nos = [(2,2),\\\n",
        "       (0,5),\\\n",
        "       (3,0),\\\n",
        "       (1,2),\\\n",
        "       (-2,6),\\\n",
        "       (3,-1),\\\n",
        "       (-1,4),\\\n",
        "       (-3,6),\\\n",
        "       (0,7)]\n",
        "\n",
        "t = NoArvore2D(*nos[0])\n",
        "for i in range(1,len(nos)):\n",
        "  t.insere(*nos[i])\n",
        "\n",
        "fig, ax = plt.subplots()\n",
        "mostra_arvore(ax, t)\n"
      ]
    },
    {
      "cell_type": "markdown",
      "id": "proud-trail",
      "metadata": {
        "id": "proud-trail"
      },
      "source": [
        "## Tarefa 1"
      ]
    },
    {
      "cell_type": "code",
      "execution_count": 135,
      "id": "naughty-cedar",
      "metadata": {
        "id": "naughty-cedar",
        "colab": {
          "base_uri": "https://localhost:8080/"
        },
        "outputId": "4ae43b9d-3fac-45a7-90c9-7b3423da7c4c"
      },
      "outputs": [
        {
          "output_type": "stream",
          "name": "stdout",
          "text": [
            "True\n"
          ]
        }
      ],
      "source": [
        "# Teste da Tarefa 1\n",
        "rets = [[(-3, 1),(0, 2)],[(1, 3),(1, 3)]]\n",
        "print(ha_interseccao(rets[0][0][0], rets[0][0][1], rets[0][1][0], rets[0][1][1], rets[1][0][0], rets[1][0][1], rets[1][1][0], rets[1][1][1]))"
      ]
    },
    {
      "cell_type": "markdown",
      "id": "naughty-observer",
      "metadata": {
        "id": "naughty-observer"
      },
      "source": [
        "## Tarefa 2"
      ]
    },
    {
      "cell_type": "code",
      "execution_count": 136,
      "id": "bronze-crystal",
      "metadata": {
        "id": "bronze-crystal",
        "colab": {
          "base_uri": "https://localhost:8080/"
        },
        "outputId": "70f82d0c-874c-4328-bd9e-5a698d23f6a7"
      },
      "outputs": [
        {
          "output_type": "stream",
          "name": "stdout",
          "text": [
            "[(1, 2)]\n"
          ]
        }
      ],
      "source": [
        "# Função que armazena a lista de pontos encontrados\n",
        "def achou_pontos(x, y, pontos):\n",
        "  pontos.append((x, y))\n",
        "  print(pontos)\n",
        "  return\n",
        "\n",
        "# Teste da Tarefa 2\n",
        "nos1 = [(2,2),\\\n",
        "       (0,5),\\\n",
        "       (3,0),\\\n",
        "       (1,2),\\\n",
        "       (-2,6),\\\n",
        "       (3,-1),\\\n",
        "       (-1,4),\\\n",
        "       (-3,6),\\\n",
        "       (0,7)]\n",
        "\n",
        "t1 = NoArvore2D(*nos1[0])\n",
        "for i in range(1,len(nos1)):\n",
        "  t1.insere(*nos1[i])\n",
        "ret = [(-3, 1), (0, 2)]\n",
        "t1.procura_rect(ret[0][0], ret[0][1], ret[1][0], ret[1][1], achou_pontos)"
      ]
    },
    {
      "cell_type": "markdown",
      "id": "suitable-combine",
      "metadata": {
        "id": "suitable-combine"
      },
      "source": [
        "## Tarefa 3"
      ]
    },
    {
      "cell_type": "code",
      "execution_count": 137,
      "id": "backed-accuracy",
      "metadata": {
        "id": "backed-accuracy",
        "colab": {
          "base_uri": "https://localhost:8080/"
        },
        "outputId": "3d7b2c64-cb39-4af2-d9c2-9744b0ab7047"
      },
      "outputs": [
        {
          "output_type": "stream",
          "name": "stdout",
          "text": [
            "True\n",
            "True\n",
            "True\n",
            "True\n",
            "True\n",
            "False\n",
            "False\n",
            "False\n"
          ]
        }
      ],
      "source": [
        "# Testes da Tarefa 3\n",
        "print(int_circ_rect(-3, 1, 0, 2, 0, -1, 4))\n",
        "print(int_circ_rect(0, 1, 0, 1, 2, 2, 2))\n",
        "print(int_circ_rect(-5, 5, 0, 1, 0, 4, 25))\n",
        "print(int_circ_rect(-5, 5, 0, 5, 0, 2, 1))\n",
        "print(int_circ_rect(-1, 1, -1, 1, 0, 0, 9))\n",
        "print(int_circ_rect(-3, -1, -3, -1, 2, 2, 16))\n",
        "print(int_circ_rect(3, 4, -1, 1, 1, 0, 1))\n",
        "print(int_circ_rect(-2, 2, -4, -3, -1, 0, 1))"
      ]
    },
    {
      "cell_type": "markdown",
      "id": "graphic-prize",
      "metadata": {
        "id": "graphic-prize"
      },
      "source": [
        "## Tarefa 4"
      ]
    },
    {
      "cell_type": "code",
      "execution_count": 140,
      "id": "reduced-scheme",
      "metadata": {
        "id": "reduced-scheme",
        "colab": {
          "base_uri": "https://localhost:8080/",
          "height": 1000
        },
        "outputId": "6b8e1573-12ad-4b52-e380-3c4949a52aa8"
      },
      "outputs": [
        {
          "output_type": "stream",
          "name": "stdout",
          "text": [
            "(1, 3, 5) 9\n",
            "A média de chamadas para 10 nós foi de 8.3\n",
            "A média de chamadas para 100 nós foi de 36.2\n",
            "A média de chamadas para 1000 nós foi de 74.4\n",
            "A média de chamadas para 10000 nós foi de 120.6\n"
          ]
        },
        {
          "output_type": "display_data",
          "data": {
            "text/plain": [
              "<Figure size 640x480 with 1 Axes>"
            ],
            "image/png": "[encoded data removed]"
          },
          "metadata": {}
        },
        {
          "output_type": "display_data",
          "data": {
            "text/plain": [
              "<Figure size 640x480 with 1 Axes>"
            ],
            "image/png": "[encoded data removed]"
          },
          "metadata": {}
        }
      ],
      "source": [
        "# Testes da Tarefa 4\n",
        "nos2 = [(0,0),\\\n",
        "       (-3,2),\\\n",
        "       (3,3),\\\n",
        "       (-3,0),\\\n",
        "       (-6,5),\\\n",
        "       (1,3),\\\n",
        "       (2,5),\\\n",
        "       (-7,3),\\\n",
        "       (2,-1),\\\n",
        "       (3, 0)]\n",
        "\n",
        "t2 = NoArvore2D(*nos2[0])\n",
        "for i in range(1,len(nos2)):\n",
        "  t2.insere(*nos2[i])\n",
        "# Retorna a sequência de pontos visitados (se for removido o # em frente ao print\n",
        "# da função_busca_mais_proximo_rec, tirei para melhorar a leitura do restante abaixo)\n",
        "# e também os valores de X, Y, e distância ao quadrado do ponto mais próximo\n",
        "# E por fim a quantidade de vezes que foi acionada a função int_circ_rect\n",
        "print(t2.busca_mais_proximo(-1, 4), qte)\n",
        "\n",
        "\n",
        "###########################################\n",
        "# Teste do desempenho por quantidade de nós\n",
        "import random\n",
        "\n",
        "# Árvore de 10 nós\n",
        "nos10 = []\n",
        "i = 0\n",
        "while i < 10:\n",
        "  nos10.append((random.randint(-10, 10), random.randint(-10, 10)))\n",
        "  i+=1\n",
        "\n",
        "t10 = NoArvore2D(*nos10[0])\n",
        "for i in range(1,len(nos10)):\n",
        "  t10.insere(*nos10[i])\n",
        "\n",
        "a = 0\n",
        "soma = 0\n",
        "while a < 10:\n",
        "  t10.busca_mais_proximo(random.randint(-10, 10), random.randint(-10, 10))\n",
        "  soma += qte\n",
        "  a+=1\n",
        "media1 = soma/10\n",
        "print(f'A média de chamadas para 10 nós foi de {media1}')\n",
        "\n",
        "\n",
        "# Árvore de 100 nós\n",
        "nos100 = []\n",
        "i = 0\n",
        "while i < 100:\n",
        "  nos100.append((random.randint(-10, 10), random.randint(-10, 10)))\n",
        "  i+=1\n",
        "\n",
        "t100 = NoArvore2D(*nos100[0])\n",
        "for i in range(1,len(nos100)):\n",
        "  t100.insere(*nos100[i])\n",
        "a = 0\n",
        "soma = 0\n",
        "while a < 10:\n",
        "  t100.busca_mais_proximo(random.randint(-10, 10), random.randint(-10, 10))\n",
        "  soma += qte\n",
        "  a+=1\n",
        "media2 = soma/10\n",
        "print(f'A média de chamadas para 100 nós foi de {media2}')\n",
        "\n",
        "# Árvore de 1000 nós\n",
        "nos1000 = []\n",
        "i = 0\n",
        "while i < 1000:\n",
        "  # para mais de 400 pontos, devemos aumentar o intervalo, pois se não, haverá\n",
        "  # um excesso de números repetidos, o que não é desejado em uma árvore\n",
        "  nos1000.append((random.randint(-100, 100), random.randint(-100, 100)))\n",
        "  i+=1\n",
        "\n",
        "t1000 = NoArvore2D(*nos1000[0])\n",
        "for i in range(1,len(nos1000)):\n",
        "  t1000.insere(*nos1000[i])\n",
        "a = 0\n",
        "soma = 0\n",
        "while a < 10:\n",
        "  t1000.busca_mais_proximo(random.randint(-100, 100), random.randint(-100, 100))\n",
        "  soma += qte\n",
        "  a+=1\n",
        "media3 = soma/10\n",
        "print(f'A média de chamadas para 1000 nós foi de {media3}')\n",
        "\n",
        "# Árvore de 10000 nós\n",
        "nos10000 = []\n",
        "i = 0\n",
        "while i < 10000:\n",
        "  nos10000.append((random.randint(-1000, 1000), random.randint(-1000, 1000)))\n",
        "  i+=1\n",
        "\n",
        "t10000 = NoArvore2D(*nos10000[0])\n",
        "for i in range(1,len(nos10000)):\n",
        "  t10000.insere(*nos10000[i])\n",
        "a = 0\n",
        "soma = 0\n",
        "while a < 10:\n",
        "  t10000.busca_mais_proximo(random.randint(-1000, 1000), random.randint(-1000, 1000))\n",
        "\n",
        "  soma += qte\n",
        "  a+=1\n",
        "media4 = soma/10\n",
        "print(f'A média de chamadas para 10000 nós foi de {media4}')\n",
        "\n",
        "##############\n",
        "# Plotando o gráfico normal\n",
        "x = [10, 100, 1000, 10000]\n",
        "y = [media1, media2, media3, media4]\n",
        "plt.scatter(x, y)\n",
        "plt.xlabel('x - Quantiade de Nós')\n",
        "plt.ylabel('y - Quantidade Média de Chamadas')\n",
        "plt.title('Quantidade Média de chamadas X Número de Nós')\n",
        "plt.show()\n",
        "\n",
        "##############\n",
        "# Plotando o gráfico Logarítimo\n",
        "x = [math.log(10), math.log(100), math.log(1000), math.log(10000)]\n",
        "y = [math.log(media1), math.log(media2), math.log(media3), math.log(media4)]\n",
        "plt.scatter(x, y)\n",
        "plt.xlabel('x - Quantiade de Nós (Log)')\n",
        "plt.ylabel('y - Quantidade Média de Chamadas (Log)')\n",
        "plt.title('Quantidade Média de chamadas (Log) X Número de Nós')\n",
        "plt.show()"
      ]
    }
  ],
  "metadata": {
    "kernelspec": {
      "display_name": "Python 3 (ipykernel)",
      "language": "python",
      "name": "python3"
    },
    "language_info": {
      "codemirror_mode": {
        "name": "ipython",
        "version": 3
      },
      "file_extension": ".py",
      "mimetype": "text/x-python",
      "name": "python",
      "nbconvert_exporter": "python",
      "pygments_lexer": "ipython3",
      "version": "3.11.2"
    },
    "colab": {
      "provenance": []
    }
  },
  "nbformat": 4,
  "nbformat_minor": 5
}