{
  "cells": [
    {
      "cell_type": "markdown",
      "metadata": {
        "id": "T0PuovJl8tyz"
      },
      "source": [
        "Nomes dos integrantes: \n",
        "\n",
        "Antônio Augusto Carnevalli NUSP: 13682909\n",
        "\n",
        "Gustavo Beraldo de Andrade Melo NUSP: 11258183"
      ]
    },
    {
      "cell_type": "markdown",
      "metadata": {
        "id": "hIOId8HxUVq_",
        "tags": []
      },
      "source": [
        "# PSI3471 - Exercicio Computacional 2\n"
      ]
    },
    {
      "cell_type": "code",
      "execution_count": 83,
      "metadata": {
        "id": "_EkDlcDKUIN4"
      },
      "outputs": [],
      "source": [
        "import numpy as np\n",
        "import matplotlib.pyplot as plt\n",
        "import pandas as pd"
      ]
    },
    {
      "cell_type": "markdown",
      "metadata": {
        "id": "5FBpto2_8tzT"
      },
      "source": [
        "* Declaração de Variaveis de Entrada\n",
        "* Criação de Função Limitadora para Saída do Perceptron"
      ]
    },
    {
      "cell_type": "code",
      "execution_count": 84,
      "metadata": {
        "id": "k1NE4MYD8tzT",
        "colab": {
          "base_uri": "https://localhost:8080/"
        },
        "outputId": "4e4254ff-35bb-4220-be7d-66d4499d87a4"
      },
      "outputs": [
        {
          "output_type": "stream",
          "name": "stdout",
          "text": [
            "(800, 400)\n",
            "(800, 1)\n",
            "(200, 400)\n",
            "(200, 1)\n"
          ]
        }
      ],
      "source": [
        "# As entradas de cada linha correspondem aos pixeis de uma imagem, distribuídos\n",
        "# em uma matriz 20x20. A última coluna do Df diz se é um círculo (-1) ou um quadrado (1)\n",
        "data_df = pd.read_csv(\"circles_and_squares.csv\")\n",
        "data = data_df.to_numpy()\n",
        "\n",
        "# Separando os dados em dados de treino e dados de teste\n",
        "Xd_treino = data[:800, :]\n",
        "Xd_test = data[800:, :]\n",
        "\n",
        "xtreino = []\n",
        "dtreino = []\n",
        "xtreino = Xd_treino[:, :-1]\n",
        "xtreino.reshape(-1, 400)\n",
        "dtreino = Xd_treino[:, -1]\n",
        "dtreino = dtreino.reshape(-1, 1)\n",
        "print(xtreino.shape)\n",
        "print(dtreino.shape)\n",
        "\n",
        "\n",
        "xteste = []\n",
        "dteste = []\n",
        "xteste = Xd_test[:, :-1]\n",
        "xteste.reshape(-1, 400)\n",
        "dteste = Xd_test[:, -1]\n",
        "dteste = dteste.reshape(-1, 1)\n",
        "print(xteste.shape)\n",
        "print(dteste.shape)\n",
        "\n",
        "\n",
        "# Função que transforma as saídas em sinais de valor -1 ou 1 (como se fosse np.heaviside, mas para devolver -1/1 ao invés de 0/1)\n",
        "def func_tratamento(x):\n",
        "  for i in range(len(x)):\n",
        "    if x[i][0] >= 0:\n",
        "      x[i][0] = int(1)\n",
        "    else:\n",
        "      x[i][0] = int(-1)\n",
        "  return x\n"
      ]
    },
    {
      "cell_type": "markdown",
      "source": [
        "Definição da função utilizada como Neuronio de Rosenblatt (modo de mini-batch)"
      ],
      "metadata": {
        "id": "wRbBzMeu7Rh9"
      }
    },
    {
      "cell_type": "code",
      "source": [
        "# Utilizaremos para o treino uma adaptação do código visto em aula\n",
        "\n",
        "def Rosenblatt_minibatch(x, d, eta, Nt, Ne, Nb, dw):\n",
        "    \"\"\"\n",
        "    W = Rosenblatt_minibatch(x, d, eta, Nt, Ne, Nb)\n",
        "    x: sinal de entrada\n",
        "    d: sinal desejado\n",
        "    eta: passo de adaptação\n",
        "    Nt: número de dados de treinamento\n",
        "    Ne: número de épocas\n",
        "    Nb: tamanho do mini-batch\n",
        "    dw: desvio padrão para inicialização de w\n",
        "    \"\"\"\n",
        "    \"\"\"\n",
        "    Novamente, vamos juntar o sinal de entrada e o sinal desejado em um único vetor, \n",
        "    uma vez que a cada época vamos embaralhar os dados.\n",
        "    Ao fazer isso, já inserimos uma coluna de 1's para levar em conta o bias.\n",
        "    \"\"\"\n",
        "\n",
        "    M = x.shape[1]\n",
        "    Nmb = int(np.floor(Nt / Nb))\n",
        "    W = dw * np.random.uniform(-0.01, 0.01, (Ne * Nmb + 1, M + 1))    \n",
        "    Xd = np.hstack((np.ones((Nt, 1)), x, d))\n",
        "\n",
        "    # No modo mini-batch, o passo de adaptação é dividido por Nb\n",
        "    eta = eta / Nb\n",
        "    for k in range(Ne):\n",
        "        np.random.shuffle(Xd)\n",
        "        x = Xd[:, 0 : M + 1]\n",
        "        d = Xd[:, [M + 1]]\n",
        "        for l in range(Nmb):\n",
        "            m = k * Nmb + l\n",
        "            dmb = d[l * Nb : (l + 1) * Nb]\n",
        "            xmb = x[l * Nb : (l + 1) * Nb, :]\n",
        "            vmb = xmb @ (W[[m], :].T)\n",
        "            Svmb = func_tratamento(vmb)\n",
        "            emb = dmb - Svmb\n",
        "            Gmb = xmb.T @ emb          \n",
        "            W[[m + 1], :] = W[[m], :] + eta * Gmb.T\n",
        "    return W"
      ],
      "metadata": {
        "id": "MJpIGYbs0uOu"
      },
      "execution_count": 85,
      "outputs": []
    },
    {
      "cell_type": "markdown",
      "source": [
        "* Definição dos parametros utilizados\n",
        "* Uso do perceptron para o modo de treinamento\n",
        "* Erro para o modo de treinamento\n",
        "\n"
      ],
      "metadata": {
        "id": "BlybN3Qj7-Gl"
      }
    },
    {
      "cell_type": "code",
      "source": [
        "eta = 0.25\n",
        "Ntreino = Xd_treino.shape[0]\n",
        "Nb = 25\n",
        "Ne = 250\n",
        "dw = 0.02\n",
        "\n",
        "\n",
        "W = Rosenblatt_minibatch(xtreino, dtreino, eta, Ntreino, Ne, Nb, dw)\n",
        "it_final = Ne * int(np.floor(Ntreino / Nb))\n",
        "Wfinal = W[[it_final], :]\n",
        "\n",
        "\n",
        "# Adicionaremos uma coluna de 1s na entrada para levar em conta o bias\n",
        "xtreino1 = np.hstack((np.ones((Ntreino, 1)), xtreino))\n",
        "vtreino = xtreino1 @ Wfinal.T\n",
        "ytreino = func_tratamento(vtreino)\n",
        "etreino = dtreino - ytreino\n",
        "\n",
        "Taxa_de_erro1 = np.sum(abs(etreino)) * 100 / (2*Ntreino)\n",
        "plt.figure()\n",
        "plt.plot(etreino, \"ok\", label=\"Rosenblatt\")\n",
        "print(f\"Taxa de erro: {Taxa_de_erro1} %\")\n"
      ],
      "metadata": {
        "colab": {
          "base_uri": "https://localhost:8080/",
          "height": 447
        },
        "id": "1tIGT1eT8omG",
        "outputId": "4242d887-1397-4a05-dd8d-aafb0998ad9f"
      },
      "execution_count": 89,
      "outputs": [
        {
          "output_type": "stream",
          "name": "stdout",
          "text": [
            "Taxa de erro: 9.125 %\n"
          ]
        },
        {
          "output_type": "display_data",
          "data": {
            "text/plain": [
              "<Figure size 640x480 with 1 Axes>"
            ],
            "image/png": "[encoded data removed]"
          },
          "metadata": {}
        }
      ]
    },
    {
      "cell_type": "markdown",
      "source": [
        "* Uso do perceptron para o modo de teste\n",
        "* Erro para o modo de teste\n"
      ],
      "metadata": {
        "id": "oYPoqgu0aSnl"
      }
    },
    {
      "cell_type": "code",
      "source": [
        "Nteste = Xd_test.shape[0]\n",
        "\n",
        "xtest = np.hstack((np.ones((Nteste, 1)), xteste))\n",
        "vtest = xtest @ (Wfinal.T)\n",
        "ytest = func_tratamento(vtest)\n",
        "etest = dteste - ytest\n",
        "\n",
        "plt.figure()\n",
        "plt.plot(etest, \"ok\", label=\"Rosenblatt\")\n",
        "Taxa_de_erro2 = np.sum(abs(etest)) * 100 / (2*Nteste)\n",
        "print(f\"Taxa de erro: {Taxa_de_erro2} %\")"
      ],
      "metadata": {
        "id": "7nb38QbAaysN",
        "colab": {
          "base_uri": "https://localhost:8080/",
          "height": 447
        },
        "outputId": "7404c6c8-fc9d-416b-f313-6e6bc8d0e6f1"
      },
      "execution_count": 90,
      "outputs": [
        {
          "output_type": "stream",
          "name": "stdout",
          "text": [
            "Taxa de erro: 32.0 %\n"
          ]
        },
        {
          "output_type": "display_data",
          "data": {
            "text/plain": [
              "<Figure size 640x480 with 1 Axes>"
            ],
            "image/png": "[encoded data removed]"
          },
          "metadata": {}
        }
      ]
    }
  ],
  "metadata": {
    "colab": {
      "provenance": []
    },
    "kernelspec": {
      "display_name": "Python 3 (ipykernel)",
      "language": "python",
      "name": "python3"
    },
    "language_info": {
      "codemirror_mode": {
        "name": "ipython",
        "version": 3
      },
      "file_extension": ".py",
      "mimetype": "text/x-python",
      "name": "python",
      "nbconvert_exporter": "python",
      "pygments_lexer": "ipython3",
      "version": "3.9.15"
    }
  },
  "nbformat": 4,
  "nbformat_minor": 0
}
