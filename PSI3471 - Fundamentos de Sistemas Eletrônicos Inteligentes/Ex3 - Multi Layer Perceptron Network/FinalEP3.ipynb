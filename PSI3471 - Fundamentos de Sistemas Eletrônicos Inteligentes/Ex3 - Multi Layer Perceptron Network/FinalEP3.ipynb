{
 "cells": [
  {
   "cell_type": "markdown",
   "metadata": {
    "id": "T0PuovJl8tyz"
   },
   "source": [
    "Nomes dos integrantes: \n",
    "\n",
    "* Antônio Augusto Carnevalli NUSP: 13682909\n",
    "\n",
    "* Gustavo Beraldo de Andrade Melo NUSP: 11258183"
   ]
  },
  {
   "cell_type": "markdown",
   "metadata": {
    "id": "hIOId8HxUVq_",
    "tags": []
   },
   "source": [
    "# PSI3471 - Exercicio Computacional 3\n"
   ]
  },
  {
   "cell_type": "code",
   "execution_count": 1,
   "metadata": {
    "id": "_EkDlcDKUIN4"
   },
   "outputs": [],
   "source": [
    "import numpy as np\n",
    "import matplotlib.pyplot as plt\n",
    "import pandas as pd"
   ]
  },
  {
   "cell_type": "markdown",
   "metadata": {
    "id": "5FBpto2_8tzT"
   },
   "source": [
    "* Declaração de Variaveis de Entrada do Treinamento\n",
    "* Definicao de Função Limitadora para Saída do Perceptron"
   ]
  },
  {
   "cell_type": "code",
   "execution_count": 2,
   "metadata": {
    "id": "k1NE4MYD8tzT"
   },
   "outputs": [],
   "source": [
    "# Parametros \n",
    "Nb = 50\n",
    "Ne = 2500\n",
    "Ntreino = 5000\n",
    "Nteste = 1000\n",
    "Nneuronios = 3\n",
    "eta = 2/Nneuronios\n",
    "\n",
    "# Funcao A\n",
    "xtreinoA = np.round(np.random.uniform(1, 100, (Ntreino, 1)), 0)\n",
    "dtreinoA = 1/(xtreinoA)\n",
    "\n",
    "# Funcao B\n",
    "xtreinoB = np.round(np.random.uniform(1, 10, (Ntreino, 1)), 0)\n",
    "dtreinoB = np.log10(xtreinoB)\n",
    "\n",
    "# Funcao C\n",
    "xtreinoC = np.round(np.random.uniform(1, 10, (Ntreino, 1)), 0)\n",
    "dtreinoC = np.exp(-(xtreinoC))\n",
    "\n",
    "# Funcao D\n",
    "xtreinoD = np.round(np.random.uniform(0, (np.pi)/2, (Ntreino, 1)), 0)\n",
    "dtreinoD = np.sin(xtreinoD)\n",
    "\n",
    "# Função sigmoidal\n",
    "def sigmoid(X):\n",
    "   return 1/(1+np.exp(-X))\n"
   ]
  },
  {
   "cell_type": "markdown",
   "metadata": {
    "id": "wRbBzMeu7Rh9"
   },
   "source": [
    "Definição da função MLP para N camadas ocultas no modo de treinamento mini-batch."
   ]
  },
  {
   "cell_type": "code",
   "execution_count": 3,
   "metadata": {
    "id": "MJpIGYbs0uOu"
   },
   "outputs": [],
   "source": [
    "# Utilizaremos para o treino uma adaptação do código visto em aula\n",
    "\n",
    "def redeMLP_gen(x, d, eta, Nt, Nb, Ne, Nn):\n",
    "    \"\"\"\n",
    "    J_MSE, Warray = redeMLP(x, d, Nn, eta, Nt, Nb, Ne, Nn)\n",
    "    Saídas:\n",
    "    J_MSE: valor da função custo ao longo das épocas\n",
    "    W1, W2, W3: matriz de pesos (inclui o bias) da última época\n",
    "    Entradas:\n",
    "    x: sinal de entrada\n",
    "    d: sinal desejado\n",
    "    eta: passo de adaptação\n",
    "    Nt: número de dados de treinamento\n",
    "    Nb: tamanho do mini-batch\n",
    "    Ne: número de épocas\n",
    "    Nn: número de neuronios na camada oculta\n",
    "    \"\"\"\n",
    "\n",
    "    # vetor que contém o número de neurônios em cada camada, mas na posição 0, contém o número de entradas da rede\n",
    "    Narray = [1, Nn, 1]\n",
    "\n",
    "    # número de mini-batches por época\n",
    "    Nmb = int(np.floor(Nt / Nb))\n",
    "\n",
    "    # inicialização das matrizes de pesos W\n",
    "    W1 = 0.2 * np.random.rand(1,2) - 0.01\n",
    "    W2 = 0.2 * np.random.rand(Nn,2) - 0.01\n",
    "    W3 = 0.2 * np.random.rand(1,Nn+1) - 0.01\n",
    "\n",
    "    # passo de adaptação dividido pelo tamanho do mini-batch\n",
    "    eta = eta / Nb\n",
    "\n",
    "    # inicialização do vetor que contém o valor da função custo\n",
    "    J_MSE = np.zeros((Ne, 1))\n",
    "\n",
    "    # Juntamos o vetor de entrada com o sinal desejado e inserimos\n",
    "    # uma coluna de uns para levar em conta o bias\n",
    "    Xd = np.hstack((np.ones((Nt, 1)), x, d))\n",
    "\n",
    "    # vetor de uns para o bias no mini-batch\n",
    "    b = np.ones((Nb, 1))\n",
    "\n",
    "    # for das épocas\n",
    "    for k in range(Ne):\n",
    "        np.random.shuffle(Xd)\n",
    "        X = Xd[:, 0 : 2]\n",
    "        d = Xd[:, [2]]\n",
    "\n",
    "        # for dos mini-batches\n",
    "        for l in range(Nmb):\n",
    "            dmb = d[l * Nb : (l + 1) * Nb].reshape(-1, 1)\n",
    "            Xmb = X[l * Nb : (l + 1) * Nb, :]\n",
    "            dphi2 = np.zeros((Nb, Nn))\n",
    "            X3mb = np.ones((Nb, 1))\n",
    "            delta2 = np.zeros((Nb, Nn))\n",
    "\n",
    "            # Cálculo progressivo\n",
    "            # Camada 1\n",
    "            v1mb = Xmb @ W1.T\n",
    "            y1mb = sigmoid(v1mb)\n",
    "            dphi1 = y1mb * (1 - y1mb)  # derivada da função sigmoide\n",
    "            X2mb = np.hstack((b, y1mb))\n",
    "\n",
    "            # Camada 2\n",
    "            for i in range(Nn):\n",
    "              v2mb = X2mb @ W2[i,:].T\n",
    "              y2mb = sigmoid(v2mb)\n",
    "              dphi2[:,i] = y2mb * (1 - y2mb)\n",
    "              X3mb = np.column_stack((X3mb, y2mb))\n",
    "            \n",
    "            # Camada 3\n",
    "            v3mb = X3mb @ W3.T\n",
    "            y3mb = sigmoid(v3mb)\n",
    "            dphi3 = y3mb * (1 - y3mb)\n",
    "\n",
    "            # erro da última camada\n",
    "            emb = dmb - y3mb\n",
    "                        \n",
    "            # Gradiente e peso das camadas finais                \n",
    "            delta3 = dphi3 * emb\n",
    "            W3 = W3 + eta * delta3.T @ X3mb\n",
    "\n",
    "            # Cálculo dos gradientes locais e e pesos locais\n",
    "            for i in range(Nn):\n",
    "              delta2[:,[i]] = dphi2[:,[i]] * (delta3 * W3[0,i])\n",
    "              W2 = W2 + eta * delta2[:,[i]].T @ X2mb\n",
    "\n",
    "            delta1 = dphi1 * (delta2[:,[1]] * W2[1,1])\n",
    "            W1 = W1 + eta * delta1.T @ Xmb\n",
    "\n",
    "            # guarda no vetor J_MSE a norma do vetor de erros de saída ao quadrado\n",
    "            J_MSE[k] = (J_MSE[k] + (np.linalg.norm(emb)) ** 2)\n",
    "\n",
    "        # cálculo do MSE (divide o valor acumulado pelo número de\n",
    "        # mini-batches x tamanho do batch x número de neurônios\n",
    "        # da camada de saída)        \n",
    "        J_MSE[k] = J_MSE[k] / (Nmb * Nb * 1)\n",
    "        \n",
    "        if k % 100 == 0:\n",
    "            print(f\"Época: {k}, MSE: {J_MSE[k]}\")\n",
    "          \n",
    "    return J_MSE, W1, W2, W3"
   ]
  },
  {
   "cell_type": "markdown",
   "metadata": {
    "id": "BlybN3Qj7-Gl"
   },
   "source": [
    "* Uso da rede MLP para o modo de treinamento para obtenção dos pesos\n",
    "* Pesos obtidos pelo modo de treinamento\n"
   ]
  },
  {
   "cell_type": "code",
   "execution_count": 4,
   "metadata": {
    "colab": {
     "base_uri": "https://localhost:8080/"
    },
    "id": "1tIGT1eT8omG",
    "outputId": "9751b271-0e6c-46de-d3a3-5619cb97673e"
   },
   "outputs": [
    {
     "name": "stdout",
     "output_type": "stream",
     "text": [
      "Época: 0, MSE: [0.03072725]\n",
      "Época: 100, MSE: [0.00786252]\n",
      "Época: 200, MSE: [0.00243358]\n",
      "Época: 300, MSE: [0.00122393]\n",
      "Época: 400, MSE: [0.00114649]\n",
      "Época: 500, MSE: [0.00109946]\n",
      "Época: 600, MSE: [0.00106062]\n",
      "Época: 700, MSE: [0.00102841]\n",
      "Época: 800, MSE: [0.00100201]\n",
      "Época: 900, MSE: [0.00097992]\n",
      "Época: 1000, MSE: [0.0009599]\n",
      "Época: 1100, MSE: [0.00094326]\n",
      "Época: 1200, MSE: [0.00092927]\n",
      "Época: 1300, MSE: [0.00091657]\n",
      "Época: 1400, MSE: [0.00090423]\n",
      "Época: 1500, MSE: [0.00089457]\n",
      "Época: 1600, MSE: [0.00088496]\n",
      "Época: 1700, MSE: [0.00087843]\n",
      "Época: 1800, MSE: [0.0008693]\n",
      "Época: 1900, MSE: [0.00086235]\n",
      "Época: 2000, MSE: [0.00085554]\n",
      "Época: 2100, MSE: [0.0008503]\n",
      "Época: 2200, MSE: [0.00084395]\n",
      "Época: 2300, MSE: [0.00083983]\n",
      "Época: 2400, MSE: [0.00083265]\n",
      "Época: 0, MSE: [0.07228698]\n",
      "Época: 100, MSE: [0.00360081]\n",
      "Época: 200, MSE: [0.00303805]\n",
      "Época: 300, MSE: [0.00277055]\n",
      "Época: 400, MSE: [0.00261495]\n",
      "Época: 500, MSE: [0.00251346]\n",
      "Época: 600, MSE: [0.00244257]\n",
      "Época: 700, MSE: [0.00238671]\n",
      "Época: 800, MSE: [0.00234205]\n",
      "Época: 900, MSE: [0.00230851]\n",
      "Época: 1000, MSE: [0.00227717]\n",
      "Época: 1100, MSE: [0.0022518]\n",
      "Época: 1200, MSE: [0.00222966]\n",
      "Época: 1300, MSE: [0.00221585]\n",
      "Época: 1400, MSE: [0.00219739]\n",
      "Época: 1500, MSE: [0.00218137]\n",
      "Época: 1600, MSE: [0.00216836]\n",
      "Época: 1700, MSE: [0.00215363]\n",
      "Época: 1800, MSE: [0.00214377]\n",
      "Época: 1900, MSE: [0.00213066]\n",
      "Época: 2000, MSE: [0.00212829]\n",
      "Época: 2100, MSE: [0.00211416]\n",
      "Época: 2200, MSE: [0.0021119]\n",
      "Época: 2300, MSE: [0.00210236]\n",
      "Época: 2400, MSE: [0.00209677]\n",
      "Época: 0, MSE: [0.03184158]\n",
      "Época: 100, MSE: [0.00715306]\n",
      "Época: 200, MSE: [0.00161345]\n",
      "Época: 300, MSE: [6.84467241e-05]\n",
      "Época: 400, MSE: [5.03957329e-05]\n",
      "Época: 500, MSE: [4.69760818e-05]\n",
      "Época: 600, MSE: [4.5165e-05]\n",
      "Época: 700, MSE: [4.3705498e-05]\n",
      "Época: 800, MSE: [4.23773605e-05]\n",
      "Época: 900, MSE: [4.11203102e-05]\n",
      "Época: 1000, MSE: [3.99467223e-05]\n",
      "Época: 1100, MSE: [3.88230105e-05]\n",
      "Época: 1200, MSE: [3.77482841e-05]\n",
      "Época: 1300, MSE: [3.67393561e-05]\n",
      "Época: 1400, MSE: [3.57837119e-05]\n",
      "Época: 1500, MSE: [3.48658765e-05]\n",
      "Época: 1600, MSE: [3.39953101e-05]\n",
      "Época: 1700, MSE: [3.31662295e-05]\n",
      "Época: 1800, MSE: [3.23728651e-05]\n",
      "Época: 1900, MSE: [3.16147428e-05]\n",
      "Época: 2000, MSE: [3.08993016e-05]\n",
      "Época: 2100, MSE: [3.02101289e-05]\n",
      "Época: 2200, MSE: [2.95519182e-05]\n",
      "Época: 2300, MSE: [2.89337605e-05]\n",
      "Época: 2400, MSE: [2.83333275e-05]\n",
      "Época: 0, MSE: [0.15228055]\n",
      "Época: 100, MSE: [0.00039413]\n",
      "Época: 200, MSE: [0.00011951]\n",
      "Época: 300, MSE: [6.94867045e-05]\n",
      "Época: 400, MSE: [4.88126161e-05]\n",
      "Época: 500, MSE: [3.75649897e-05]\n",
      "Época: 600, MSE: [3.05079051e-05]\n",
      "Época: 700, MSE: [2.56723316e-05]\n",
      "Época: 800, MSE: [2.21542573e-05]\n",
      "Época: 900, MSE: [1.94809322e-05]\n",
      "Época: 1000, MSE: [1.73813113e-05]\n",
      "Época: 1100, MSE: [1.56889845e-05]\n",
      "Época: 1200, MSE: [1.42961357e-05]\n",
      "Época: 1300, MSE: [1.31298991e-05]\n",
      "Época: 1400, MSE: [1.21392311e-05]\n",
      "Época: 1500, MSE: [1.12873195e-05]\n",
      "Época: 1600, MSE: [1.05469757e-05]\n",
      "Época: 1700, MSE: [9.89766693e-06]\n",
      "Época: 1800, MSE: [9.32359388e-06]\n",
      "Época: 1900, MSE: [8.8124278e-06]\n",
      "Época: 2000, MSE: [8.35436945e-06]\n",
      "Época: 2100, MSE: [7.94156838e-06]\n",
      "Época: 2200, MSE: [7.56763633e-06]\n",
      "Época: 2300, MSE: [7.22734349e-06]\n",
      "Época: 2400, MSE: [6.91634453e-06]\n"
     ]
    },
    {
     "data": {
      "text/plain": [
       "(0.0, 2500.0, -52.78240226584429, -7.172750608113983)"
      ]
     },
     "execution_count": 4,
     "metadata": {},
     "output_type": "execute_result"
    },
    {
     "data": {
      "image/png": "[encoded data removed]",
      "text/plain": [
       "<Figure size 640x480 with 1 Axes>"
      ]
     },
     "metadata": {},
     "output_type": "display_data"
    },
    {
     "data": {
      "image/png": "[encoded data removed]",
      "text/plain": [
       "<Figure size 640x480 with 1 Axes>"
      ]
     },
     "metadata": {},
     "output_type": "display_data"
    },
    {
     "data": {
      "image/png": "[encoded data removed]",
      "text/plain": [
       "<Figure size 640x480 with 1 Axes>"
      ]
     },
     "metadata": {},
     "output_type": "display_data"
    },
    {
     "data": {
      "image/png": "[encoded data removed]",
      "text/plain": [
       "<Figure size 640x480 with 1 Axes>"
      ]
     },
     "metadata": {},
     "output_type": "display_data"
    }
   ],
   "source": [
    "# Pesos de A\n",
    "(J_MSEA, W1A, W2A, W3A) = redeMLP_gen(xtreinoA, dtreinoA, eta, Ntreino, Nb, Ne, Nneuronios)\n",
    "\n",
    "plt.figure()\n",
    "J_MSEdB = 10 * np.log10(J_MSEA)\n",
    "plt.plot(J_MSEdB, \"r\")\n",
    "plt.ylabel(\"J_MSE (dB)\")\n",
    "plt.grid(axis=\"x\", color=\"0.5\")\n",
    "plt.grid(axis=\"y\", color=\"0.5\")\n",
    "plt.xlabel(\"épocas\")\n",
    "plt.axis([0, Ne, min(J_MSEdB) - 1, max(J_MSEdB) + 1])\n",
    "\n",
    "# Pesos de B\n",
    "(J_MSEB, W1B, W2B, W3B) = redeMLP_gen(xtreinoB, dtreinoB, eta, Ntreino, Nb, Ne, Nneuronios)\n",
    "\n",
    "plt.figure()\n",
    "J_MSEdB = 10 * np.log10(J_MSEB)\n",
    "plt.plot(J_MSEdB, \"r\")\n",
    "plt.ylabel(\"J_MSE (dB)\")\n",
    "plt.grid(axis=\"x\", color=\"0.5\")\n",
    "plt.grid(axis=\"y\", color=\"0.5\")\n",
    "plt.xlabel(\"épocas\")\n",
    "plt.axis([0, Ne, min(J_MSEdB) - 1, max(J_MSEdB) + 1])\n",
    "\n",
    "# Pesos de C\n",
    "(J_MSEC, W1C, W2C, W3C) = redeMLP_gen(xtreinoC, dtreinoC, eta, Ntreino, Nb, Ne, Nneuronios)\n",
    "\n",
    "plt.figure()\n",
    "J_MSEdB = 10 * np.log10(J_MSEC)\n",
    "plt.plot(J_MSEdB, \"r\")\n",
    "plt.ylabel(\"J_MSE (dB)\")\n",
    "plt.grid(axis=\"x\", color=\"0.5\")\n",
    "plt.grid(axis=\"y\", color=\"0.5\")\n",
    "plt.xlabel(\"épocas\")\n",
    "plt.axis([0, Ne, min(J_MSEdB) - 1, max(J_MSEdB) + 1])\n",
    "\n",
    "# Pesos de D\n",
    "(J_MSED, W1D, W2D, W3D) = redeMLP_gen(xtreinoD, dtreinoD, eta, Ntreino, Nb, Ne, Nneuronios)\n",
    "\n",
    "plt.figure()\n",
    "J_MSEdB = 10 * np.log10(J_MSED)\n",
    "plt.plot(J_MSEdB, \"r\")\n",
    "plt.ylabel(\"J_MSE (dB)\")\n",
    "plt.grid(axis=\"x\", color=\"0.5\")\n",
    "plt.grid(axis=\"y\", color=\"0.5\")\n",
    "plt.xlabel(\"épocas\")\n",
    "plt.axis([0, Ne, min(J_MSEdB) - 1, max(J_MSEdB) + 1])"
   ]
  },
  {
   "cell_type": "markdown",
   "metadata": {
    "id": "_0MGeXfdaLqW"
   },
   "source": [
    "* Definição da função que mantém os pesos fixos e faz apenas o cálculo progressivo para testar a rede treinada"
   ]
  },
  {
   "cell_type": "code",
   "execution_count": 5,
   "metadata": {
    "id": "dC0QcpZtaUzr"
   },
   "outputs": [],
   "source": [
    "def redeMLP_teste_gen(x, d, W1, W2, W3, Nt):\n",
    "    \"\"\"\n",
    "    y = redeMLP_teste(x, d, W, Nn, Nt)\n",
    "    Saídas:\n",
    "    y: saída da rede MLP\n",
    "    Entradas:\n",
    "    x: sinal de entrada\n",
    "    d: sinal desejado\n",
    "    W1, W2, W3: matriz dos pesos (inclui o bias) da última época\n",
    "    Nt: número de dados de teste\n",
    "    \"\"\"\n",
    "\n",
    "    b = np.ones((Nt, 1))\n",
    "\n",
    "    x1 = np.hstack((b,x))\n",
    "    v1 = x1 @ W1.T\n",
    "    y1 = sigmoid(v1)\n",
    "\n",
    "    x2= np.hstack((b,y1))\n",
    "    v2 = x2 @ W2.T\n",
    "    y2 = sigmoid(v2)\n",
    "\n",
    "    x3= np.hstack((b, y2))\n",
    "    v3 = x3 @ W3.T\n",
    "    y = sigmoid(v3)\n",
    "\n",
    "    return y"
   ]
  },
  {
   "cell_type": "markdown",
   "metadata": {
    "id": "oYPoqgu0aSnl"
   },
   "source": [
    "* Uso da rede MLP para o modo de teste para cada função\n",
    "* Erro para o modo de teste para cada funçao\n"
   ]
  },
  {
   "cell_type": "code",
   "execution_count": 10,
   "metadata": {
    "colab": {
     "base_uri": "https://localhost:8080/"
    },
    "id": "7nb38QbAaysN",
    "outputId": "2ef2dfcd-7395-414d-db3b-878db2c213b2"
   },
   "outputs": [
    {
     "name": "stdout",
     "output_type": "stream",
     "text": [
      "Erro quadratico médio: 0.7757550097987466\n",
      "Erro quadratico médio: 3.1818385299408702\n",
      "Erro quadratico médio: 0.056970535733923494\n",
      "Erro quadratico médio: 0.005728780576913853\n"
     ]
    }
   ],
   "source": [
    "# Funcao A\n",
    "xtesteA = np.round(np.random.uniform(1, 100, (Nteste, 1)), 0)\n",
    "dtesteA = 1/(xtesteA)\n",
    "(ytesteA) = redeMLP_teste_gen(xtesteA, dtesteA, W1A, W2A, W3A, Nteste)\n",
    "\n",
    "Taxa_de_erro = np.sum(np.absolute(dtesteA - ytesteA)) * 100 / (2 * Nteste)\n",
    "print(f\"Erro quadratico médio: {Taxa_de_erro**2}\")\n",
    "\n",
    "\n",
    "# Funcao B\n",
    "xtesteB = np.round(np.random.uniform(1, 10, (Nteste, 1)), 0)\n",
    "dtesteB = np.log10(xtesteB)\n",
    "(ytesteB) = redeMLP_teste_gen(xtesteB, dtesteB, W1B, W2B, W3B, Nteste)\n",
    "\n",
    "Taxa_de_erro = np.sum(np.absolute(dtesteB - ytesteB)) * 100 / (2 * Nteste)\n",
    "print(f\"Erro quadratico médio: {Taxa_de_erro**2}\")\n",
    "\n",
    "\n",
    "# Funcao C\n",
    "xtesteC = np.round(np.random.uniform(1, 10, (Nteste, 1)), 0)\n",
    "dtesteC = np.exp(-(xtesteC))\n",
    "(ytesteC) = redeMLP_teste_gen(xtesteC, dtesteC, W1C, W2C, W3C, Nteste)\n",
    "\n",
    "Taxa_de_erro = np.sum(np.absolute(dtesteC - ytesteC)) * 100 / (2 * Nteste)\n",
    "print(f\"Erro quadratico médio: {Taxa_de_erro**2}\")\n",
    "\n",
    "\n",
    "# Funcao D\n",
    "xtesteD = np.round(np.random.uniform(0, (np.pi)/2, (Nteste, 1)), 0)\n",
    "dtesteD = np.sin(xtesteD)\n",
    "(ytesteD) = redeMLP_teste_gen(xtesteD, dtesteD, W1D, W2D, W3D, Nteste)\n",
    "\n",
    "Taxa_de_erro = np.sum(np.absolute(dtesteD - ytesteD)) * 100 / (2 * Nteste)\n",
    "print(f\"Erro quadratico médio: {Taxa_de_erro**2}\")\n"
   ]
  },
  {
   "cell_type": "markdown",
   "metadata": {
    "id": "ROTejo22qCoM"
   },
   "source": [
    "\n",
    "| NºNeuronios na camada oculta | 3 | 4 | 5 | 10 | 15 | 20 | 50 | 100 |\n",
    "|------------------------------|---|---|---|----|----|----|----|-----| \n",
    "|Erro Médio Quadratico na Função A |8E-1|4E-1|2E-2|3E-3|1.5E-3|1E-3|2E-3|9E-3| \n",
    "|Erro Médio Quadratico na Função B |3E0|7E-2|1.5E0|4E-2|3E-2|1E-2|4E-2|2E-1|  \n",
    "|Erro Médio Quadratico na Função C |5E-02|6.1E-6|2E-6|4E-6|2E-5|5E-5|6E-4|2E-4|  \n",
    "|Erro Médio Quadratico na Função D |5E-03|4E-2|5E-4|5E-5|2E-4|5E-4|3E-2|3E-2|  \n",
    "\n"
   ]
  }
 ],
 "metadata": {
  "colab": {
   "provenance": []
  },
  "kernelspec": {
   "display_name": "Python 3 (ipykernel)",
   "language": "python",
   "name": "python3"
  },
  "language_info": {
   "codemirror_mode": {
    "name": "ipython",
    "version": 3
   },
   "file_extension": ".py",
   "mimetype": "text/x-python",
   "name": "python",
   "nbconvert_exporter": "python",
   "pygments_lexer": "ipython3",
   "version": "3.11.2"
  }
 },
 "nbformat": 4,
 "nbformat_minor": 1
}
